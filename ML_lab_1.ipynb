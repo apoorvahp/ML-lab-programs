{
  "nbformat": 4,
  "nbformat_minor": 0,
  "metadata": {
    "colab": {
      "name": "ML lab 1.ipynb",
      "provenance": [],
      "authorship_tag": "ABX9TyNzBxITfwfhtmxhri9vG809",
      "include_colab_link": true
    },
    "kernelspec": {
      "name": "python3",
      "display_name": "Python 3"
    }
  },
  "cells": [
    {
      "cell_type": "markdown",
      "metadata": {
        "id": "view-in-github",
        "colab_type": "text"
      },
      "source": [
        "<a href=\"https://colab.research.google.com/github/ashaapoorva/ML-lab-programs/blob/master/ML_lab_1.ipynb\" target=\"_parent\"><img src=\"https://colab.research.google.com/assets/colab-badge.svg\" alt=\"Open In Colab\"/></a>"
      ]
    },
    {
      "cell_type": "code",
      "metadata": {
        "id": "ig9Rp6EzVKRC",
        "colab_type": "code",
        "colab": {}
      },
      "source": [
        ""
      ],
      "execution_count": null,
      "outputs": []
    },
    {
      "cell_type": "markdown",
      "metadata": {
        "id": "aM4PCfnUVvEy",
        "colab_type": "text"
      },
      "source": [
        "PROGRAM 1: Write a Python Program which accepts the user’s first and last name print them in reverse order with a space between them."
      ]
    },
    {
      "cell_type": "code",
      "metadata": {
        "id": "45qunkTGWDUk",
        "colab_type": "code",
        "colab": {
          "base_uri": "https://localhost:8080/",
          "height": 67
        },
        "outputId": "c072638d-572c-4d3e-f828-1b930b31116a"
      },
      "source": [
        "fname = input(\"Input your First Name : \")\n",
        "lname = input(\"Input your Last Name : \")\n",
        "print (\"Hello  \" + lname + \" \" + fname)"
      ],
      "execution_count": 1,
      "outputs": [
        {
          "output_type": "stream",
          "text": [
            "Input your First Name : Apoorva\n",
            "Input your Last Name : H P\n",
            "Hello  H P Apoorva\n"
          ],
          "name": "stdout"
        }
      ]
    },
    {
      "cell_type": "markdown",
      "metadata": {
        "id": "zG6C1qQ_WYs_",
        "colab_type": "text"
      },
      "source": [
        "PROGRAM 2: Write a Python Program to calculate numbers of days between two dates."
      ]
    },
    {
      "cell_type": "code",
      "metadata": {
        "id": "hyGLlkLGWgiX",
        "colab_type": "code",
        "colab": {
          "base_uri": "https://localhost:8080/",
          "height": 34
        },
        "outputId": "09fdce5d-5b17-4bdb-cfb6-801856aba9f0"
      },
      "source": [
        "from datetime import date\n",
        "f_date = date(2014, 7, 2)\n",
        "l_date = date(2014, 7, 11)\n",
        "delta = l_date - f_date\n",
        "print(delta.days)"
      ],
      "execution_count": 2,
      "outputs": [
        {
          "output_type": "stream",
          "text": [
            "9\n"
          ],
          "name": "stdout"
        }
      ]
    },
    {
      "cell_type": "markdown",
      "metadata": {
        "id": "bI00bAucWpAd",
        "colab_type": "text"
      },
      "source": [
        "PROGRAM 3: Write a python program to test whether a passed letter is a vowel or not."
      ]
    },
    {
      "cell_type": "code",
      "metadata": {
        "id": "fGQKjVOsWwKn",
        "colab_type": "code",
        "colab": {
          "base_uri": "https://localhost:8080/",
          "height": 50
        },
        "outputId": "46fa8ff4-39d5-45eb-de9b-fd08e60a35af"
      },
      "source": [
        "def is_vowel(char):\n",
        "    all_vowels = 'aeiou'\n",
        "    return char in all_vowels\n",
        "print(is_vowel('s'))\n",
        "print(is_vowel('a'))"
      ],
      "execution_count": 3,
      "outputs": [
        {
          "output_type": "stream",
          "text": [
            "False\n",
            "True\n"
          ],
          "name": "stdout"
        }
      ]
    },
    {
      "cell_type": "markdown",
      "metadata": {
        "id": "PDv2T8z3W3VS",
        "colab_type": "text"
      },
      "source": [
        " PROGRAM 4: Write a python program to sum of three given integers. However, if two values are equal sum will be zero.  "
      ]
    },
    {
      "cell_type": "code",
      "metadata": {
        "id": "zGX3bMN_XV27",
        "colab_type": "code",
        "colab": {
          "base_uri": "https://localhost:8080/",
          "height": 84
        },
        "outputId": "ce124242-f5c3-4798-c002-cbae4f36acf2"
      },
      "source": [
        "def sum(x, y, z):\n",
        "    if x == y or y == z or x==z:\n",
        "        sum = 0\n",
        "    else:\n",
        "        sum = x + y + z\n",
        "    return sum\n",
        "print(sum(3, 1, 3))\n",
        "print(sum(4, 2, 2))\n",
        "print(sum(3, 3, 3))\n",
        "print(sum(1, 2, 3))"
      ],
      "execution_count": 4,
      "outputs": [
        {
          "output_type": "stream",
          "text": [
            "0\n",
            "0\n",
            "0\n",
            "6\n"
          ],
          "name": "stdout"
        }
      ]
    },
    {
      "cell_type": "markdown",
      "metadata": {
        "id": "JLt_qTBmXfi6",
        "colab_type": "text"
      },
      "source": [
        "PROGRAM 5: Write a Python program to count the number of characters (character frequency) in a string."
      ]
    },
    {
      "cell_type": "code",
      "metadata": {
        "id": "MRbv9QQAXoCo",
        "colab_type": "code",
        "colab": {
          "base_uri": "https://localhost:8080/",
          "height": 34
        },
        "outputId": "e0c9cf5d-9b6a-44cc-dfbe-5d93269be381"
      },
      "source": [
        "def char_frequency(str1):\n",
        "    dict = {}\n",
        "    for n in str1:\n",
        "        keys = dict.keys()\n",
        "        if n in keys:\n",
        "            dict[n] += 1\n",
        "        else:\n",
        "            dict[n] = 1\n",
        "    return dict\n",
        "print(char_frequency('ahpgowda456@gmail.com'))"
      ],
      "execution_count": 5,
      "outputs": [
        {
          "output_type": "stream",
          "text": [
            "{'a': 3, 'h': 1, 'p': 1, 'g': 2, 'o': 2, 'w': 1, 'd': 1, '4': 1, '5': 1, '6': 1, '@': 1, 'm': 2, 'i': 1, 'l': 1, '.': 1, 'c': 1}\n"
          ],
          "name": "stdout"
        }
      ]
    }
  ]
}