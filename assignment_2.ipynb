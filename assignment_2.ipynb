{
  "nbformat": 4,
  "nbformat_minor": 0,
  "metadata": {
    "colab": {
      "name": "assignment 2",
      "provenance": [],
      "authorship_tag": "ABX9TyNyK7+GvPqJ51rtjkB65m2F",
      "include_colab_link": true
    },
    "kernelspec": {
      "name": "python3",
      "display_name": "Python 3"
    }
  },
  "cells": [
    {
      "cell_type": "markdown",
      "metadata": {
        "id": "view-in-github",
        "colab_type": "text"
      },
      "source": [
        "<a href=\"https://colab.research.google.com/github/apoorvahp/ML-lab-programs/blob/master/assignment_2.ipynb\" target=\"_parent\"><img src=\"https://colab.research.google.com/assets/colab-badge.svg\" alt=\"Open In Colab\"/></a>"
      ]
    },
    {
      "cell_type": "markdown",
      "metadata": {
        "id": "RQYerMkTQtOt",
        "colab_type": "text"
      },
      "source": [
        ""
      ]
    },
    {
      "cell_type": "markdown",
      "metadata": {
        "id": "e9TaULp2QwRl",
        "colab_type": "text"
      },
      "source": [
        "python program to count number of occurences of a word in the sentence"
      ]
    },
    {
      "cell_type": "code",
      "metadata": {
        "id": "fO9bZaI3QxnS",
        "colab_type": "code",
        "colab": {
          "base_uri": "https://localhost:8080/",
          "height": 50
        },
        "outputId": "d1ad524b-5e9b-4ce8-8255-2edd2ec5806a"
      },
      "source": [
        "a=str(input(\"Enter the sentence: \"))\n",
        "b=dict()\n",
        "c=a.split()\n",
        "for i in c:\n",
        "    if i in b:\n",
        "        b[i]+=1\n",
        "    else:\n",
        "        b[i]=1\n",
        "print(b)"
      ],
      "execution_count": 1,
      "outputs": [
        {
          "output_type": "stream",
          "text": [
            "Enter the sentence: i love my nation\n",
            "{'i': 1, 'love': 1, 'my': 1, 'nation': 1}\n"
          ],
          "name": "stdout"
        }
      ]
    },
    {
      "cell_type": "markdown",
      "metadata": {
        "id": "6w1MtiY2RB1w",
        "colab_type": "text"
      },
      "source": [
        "python program to remove duplicate elements from list"
      ]
    },
    {
      "cell_type": "code",
      "metadata": {
        "id": "xuZhffaqRIrV",
        "colab_type": "code",
        "colab": {
          "base_uri": "https://localhost:8080/",
          "height": 118
        },
        "outputId": "062f98ef-4e6c-4ed7-825d-a136e3b104fb"
      },
      "source": [
        "n=int(input(\"Enter the size of list \"))\n",
        "a=[]\n",
        "for i in range(n):\n",
        "    a.append(input())\n",
        "b=set(a)\n",
        "print(list(b))"
      ],
      "execution_count": 2,
      "outputs": [
        {
          "output_type": "stream",
          "text": [
            "Enter the size of list 4\n",
            "1\n",
            "we\n",
            "3\n",
            "we\n",
            "['we', '3', '1']\n"
          ],
          "name": "stdout"
        }
      ]
    },
    {
      "cell_type": "markdown",
      "metadata": {
        "id": "hou5ye1PRkdz",
        "colab_type": "text"
      },
      "source": [
        "python program to count number of elements in a list within specified range\n"
      ]
    },
    {
      "cell_type": "code",
      "metadata": {
        "id": "xOnZNCo8Rqnp",
        "colab_type": "code",
        "colab": {
          "base_uri": "https://localhost:8080/",
          "height": 168
        },
        "outputId": "871ab71e-dee2-4d49-c8ee-180719a2eae2"
      },
      "source": [
        "n=int(input(\"Enter the size of list\"))\n",
        "a=[]\n",
        "b=[]\n",
        "for i in range(n):\n",
        "    a.append(input())\n",
        "x=int(input(\"Enter the 1st range\"))\n",
        "y=int(input(\"Enter the 2nd range\"))\n",
        "for i in range(x,y+1):\n",
        "    b.append(a[i])\n",
        "print(b)"
      ],
      "execution_count": 3,
      "outputs": [
        {
          "output_type": "stream",
          "text": [
            "Enter the size of list5\n",
            "1\n",
            "2\n",
            "3\n",
            "4\n",
            "5\n",
            "Enter the 1st range2\n",
            "Enter the 2nd range4\n",
            "['3', '4', '5']\n"
          ],
          "name": "stdout"
        }
      ]
    },
    {
      "cell_type": "markdown",
      "metadata": {
        "id": "VM49c4VFR6km",
        "colab_type": "text"
      },
      "source": [
        "python program to merge two dictionaries"
      ]
    },
    {
      "cell_type": "code",
      "metadata": {
        "id": "GA2jWr40SDuy",
        "colab_type": "code",
        "colab": {
          "base_uri": "https://localhost:8080/",
          "height": 34
        },
        "outputId": "55a40dfa-267f-452d-e392-75d911ec61eb"
      },
      "source": [
        "a={'a':1,'b':2}\n",
        "b={'c':3,'d':4}\n",
        "a.update(b)\n",
        "print(a)"
      ],
      "execution_count": 4,
      "outputs": [
        {
          "output_type": "stream",
          "text": [
            "{'a': 1, 'b': 2, 'c': 3, 'd': 4}\n"
          ],
          "name": "stdout"
        }
      ]
    },
    {
      "cell_type": "markdown",
      "metadata": {
        "id": "7ZQqw1paSIvZ",
        "colab_type": "text"
      },
      "source": [
        "python program to find highest 3 values in dictionary\n"
      ]
    },
    {
      "cell_type": "code",
      "metadata": {
        "id": "5DTr-Xd8SO3k",
        "colab_type": "code",
        "colab": {
          "base_uri": "https://localhost:8080/",
          "height": 34
        },
        "outputId": "75bf1e66-6a73-49f2-9afa-9e1b562a770b"
      },
      "source": [
        "from heapq import nlargest\n",
        "a={'a':7889,'b':5332,'c':8645,'d':6778,'e':5789}\n",
        "b=nlargest(3,a,key=a.get)\n",
        "print(b)"
      ],
      "execution_count": 5,
      "outputs": [
        {
          "output_type": "stream",
          "text": [
            "['c', 'a', 'd']\n"
          ],
          "name": "stdout"
        }
      ]
    },
    {
      "cell_type": "markdown",
      "metadata": {
        "id": "PUIjjt5VSTu8",
        "colab_type": "text"
      },
      "source": [
        "python program to convert tuple to a string\n"
      ]
    },
    {
      "cell_type": "code",
      "metadata": {
        "id": "D8CmqKvLSZwK",
        "colab_type": "code",
        "colab": {
          "base_uri": "https://localhost:8080/",
          "height": 34
        },
        "outputId": "d0e717e1-bc46-4a4b-cd75-bcec4f81ee92"
      },
      "source": [
        "t=('c','r','i','c','k','e','t')\n",
        "s=''.join(t)\n",
        "print(s)\n"
      ],
      "execution_count": 6,
      "outputs": [
        {
          "output_type": "stream",
          "text": [
            "cricket\n"
          ],
          "name": "stdout"
        }
      ]
    },
    {
      "cell_type": "markdown",
      "metadata": {
        "id": "sBha-g1SSjGZ",
        "colab_type": "text"
      },
      "source": [
        "python program to reverse a tuple"
      ]
    },
    {
      "cell_type": "code",
      "metadata": {
        "id": "I6-EbPb2SkZT",
        "colab_type": "code",
        "colab": {
          "base_uri": "https://localhost:8080/",
          "height": 34
        },
        "outputId": "f5b26ce2-eab7-484e-a71b-5ebd8bc07489"
      },
      "source": [
        "t=('c','r','i','c','k','e','t')\n",
        "list=list(t)\n",
        "list.reverse()\n",
        "print(tuple(list))\n"
      ],
      "execution_count": 7,
      "outputs": [
        {
          "output_type": "stream",
          "text": [
            "('t', 'e', 'k', 'c', 'i', 'r', 'c')\n"
          ],
          "name": "stdout"
        }
      ]
    },
    {
      "cell_type": "markdown",
      "metadata": {
        "id": "anuqTxj7Spew",
        "colab_type": "text"
      },
      "source": [
        "python program to remove existing indentation from all of the lines in a given text"
      ]
    },
    {
      "cell_type": "code",
      "metadata": {
        "id": "mD7AgIgiSuX5",
        "colab_type": "code",
        "colab": {
          "base_uri": "https://localhost:8080/",
          "height": 121
        },
        "outputId": "d6f7437d-570b-4cc0-8793-c83b8a702ac8"
      },
      "source": [
        "import textwrap\n",
        "sample_text = '''\n",
        "    Python is a widely used high-level, general-purpose, interpreted,dynamic programming language. Its design philosophy emphasizes code readability, and its syntax allows programmers to express\n",
        "    concepts in fewer lines of code than possible in languages such as C++ or Java. '''\n",
        "text_without_Indentation = textwrap.dedent(sample_text)\n",
        "print()\n",
        "print(text_without_Indentation )\n",
        "print()\n"
      ],
      "execution_count": 8,
      "outputs": [
        {
          "output_type": "stream",
          "text": [
            "\n",
            "\n",
            "Python is a widely used high-level, general-purpose, interpreted,dynamic programming language. Its design philosophy emphasizes code readability, and its syntax allows programmers to express\n",
            "concepts in fewer lines of code than possible in languages such as C++ or Java. \n",
            "\n"
          ],
          "name": "stdout"
        }
      ]
    }
  ]
}